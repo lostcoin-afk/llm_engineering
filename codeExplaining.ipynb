{
 "cells": [
  {
   "cell_type": "code",
   "execution_count": 1,
   "id": "a3db1eb1",
   "metadata": {},
   "outputs": [],
   "source": [
    "import requests\n",
    "import ollama\n",
    "from IPython.display import Markdown, display, update_display"
   ]
  },
  {
   "cell_type": "code",
   "execution_count": 10,
   "id": "dfca69d1",
   "metadata": {},
   "outputs": [],
   "source": [
    "MODEL=\"gemma3:4b\""
   ]
  },
  {
   "cell_type": "code",
   "execution_count": 11,
   "id": "60ff0019",
   "metadata": {},
   "outputs": [],
   "source": [
    "system_prompt = \"You are a coding Expert. Along with being an expert in writing up code\\n\" \\\n",
    "\"You are also support individuals writing up better code suggesting explanation, identifying bugs and erros and suggesting corrections\\n\" \n",
    "system_prompt += \"Be ready for follow ups on the above code like helping with any implementioan of any optimiztaion\"\n",
    "system_prompt += \"For these followups be sure that it is related to the code that they supplied before\"\n",
    "system_prompt += \"Apart from these question if anything else is asked you simply deny it\""
   ]
  },
  {
   "cell_type": "code",
   "execution_count": 12,
   "id": "b233c8b7",
   "metadata": {},
   "outputs": [],
   "source": [
    "def code_user_prompt(code):\n",
    "    user_prompt = f\" You are looking at code\\n {code}\\n\\n\"\n",
    "    user_prompt += \"Explain what the code is trying to do, verify if any errors are present and suggest correction\\n \"\n",
    "    user_prompt += \"Suggest optimizations if any present and ask if they want help with implementing any of the optimization\"\n",
    "    return user_prompt"
   ]
  },
  {
   "cell_type": "code",
   "execution_count": 19,
   "id": "269d4a97",
   "metadata": {},
   "outputs": [],
   "source": [
    "def explain_code(code):\n",
    "    response = ollama.chat(\n",
    "        model=MODEL,\n",
    "        messages=[\n",
    "            {\"role\":\"system\",\"content\":system_prompt},\n",
    "            {\"role\":\"user\",\"content\":code_user_prompt(code)}\n",
    "        ],\n",
    "    )\n",
    "    display(Markdown(response[\"message\"][\"content\"]))"
   ]
  },
  {
   "cell_type": "code",
   "execution_count": 20,
   "id": "aac66ddb",
   "metadata": {},
   "outputs": [
    {
     "data": {
      "text/markdown": [
       "Okay, let's break down this code snippet:\n",
       "\n",
       "```python\n",
       "yield from {book.get(\"author\") for book in books if book.get(\"author\")}\n",
       "```\n",
       "\n",
       "**What the Code Does:**\n",
       "\n",
       "This code is a generator expression using a `yield from` statement.  It aims to extract the 'author' field from a list of dictionaries called `books`, and then yield those author names one at a time. Let's dissect it step-by-step:\n",
       "\n",
       "1. **`for book in books`**: This iterates through each dictionary (`book`) in the `books` list.\n",
       "\n",
       "2. **`if book.get(\"author\")`**:  This is a conditional check.  `book.get(\"author\")` attempts to retrieve the value associated with the key \"author\" from each `book` dictionary. Crucially, `book.get(\"author\")` returns `None` if the key \"author\" doesn't exist in a particular book dictionary.  The `if` statement only proceeds if `book.get(\"author\")` returns a truthy value (i.e., not `None` or 0 or an empty string, etc.).  This effectively filters out books that don't have an author listed.\n",
       "\n",
       "3. **`{book.get(\"author\") ...}`**: This part creates a set containing the author names that passed the `if` filter.  Because it's within a set comprehension, it ensures that each author name is only included once.\n",
       "\n",
       "4. **`yield from ...`**: The `yield from` statement is a powerful construct. It effectively \"unpacks\" the set created in the previous step and yields each element (author name) from that set.  `yield from` is used here because the set comprehension itself generates a generator object.  It's important for efficiency because it avoids creating an intermediate list.\n",
       "\n",
       "**Potential Errors and Suggestions:**\n",
       "\n",
       "*   **Missing `books` List:** The code assumes that the `books` variable is already defined and contains a list of dictionaries. If `books` is not defined, a `NameError` will occur. **Solution:** Ensure that `books` is initialized as a list of dictionaries before running this code.  For example: `books = [{\"author\": \"Jane Doe\"}, {\"title\": \"Book 2\"}]`\n",
       "\n",
       "*   **Data Type Consistency:** The code assumes all dictionaries in the `books` list have a key \"author\" and that the values associated with this key are suitable for yielding (e.g., strings). If the values are of a different type (e.g., numbers), it may lead to unexpected results or errors when you try to use the generator. **Suggestion:**  Add a check within the comprehension to ensure that the values are strings before yielding.  You could use `if isinstance(book.get(\"author\"), str):`\n",
       "\n",
       "*   **Empty `books` List:** If `books` is an empty list, the code will still execute without errors, but nothing will be yielded. This is expected behavior.\n",
       "\n",
       "**Example with Correction & Additional Checks:**\n",
       "\n",
       "```python\n",
       "books = [{\"author\": \"Jane Doe\"}, {\"title\": \"Book 2\"}, {\"author\": \"John Smith\"}] # Sample data\n",
       "\n",
       "yield from {author for book in books if isinstance(book.get(\"author\"), str)}\n",
       "```\n",
       "\n",
       "**Optimization and Follow-Up Questions:**\n",
       "\n",
       "This code is already quite efficient for its purpose. The use of a generator expression and `yield from` avoids creating an intermediate list in memory, which is a good practice.\n",
       "\n",
       "**Would you like help implementing any of the following optimizations or clarifications?**\n",
       "\n",
       "*   Adding more robust error handling (e.g., handling `KeyError` if 'author' isn't present).\n",
       "*   Changing the output format (e.g., yielding the author names in a specific order).\n",
       "*   Converting the yielded values to a different data type (e.g., lowercase strings).\n",
       "*   Implementing a different method for filtering books without an author.  For instance, if you want to return an empty list instead of nothing.\n"
      ],
      "text/plain": [
       "<IPython.core.display.Markdown object>"
      ]
     },
     "metadata": {},
     "output_type": "display_data"
    }
   ],
   "source": [
    "explain_code(\"\"\"\n",
    "Please explain what this code does and why:\n",
    "yield from {book.get(\"author\") for book in books if book.get(\"author\")}\n",
    "\"\"\")"
   ]
  },
  {
   "cell_type": "code",
   "execution_count": null,
   "id": "ab74aeac",
   "metadata": {},
   "outputs": [],
   "source": []
  }
 ],
 "metadata": {
  "kernelspec": {
   "display_name": "Python 3",
   "language": "python",
   "name": "python3"
  },
  "language_info": {
   "codemirror_mode": {
    "name": "ipython",
    "version": 3
   },
   "file_extension": ".py",
   "mimetype": "text/x-python",
   "name": "python",
   "nbconvert_exporter": "python",
   "pygments_lexer": "ipython3",
   "version": "3.13.2"
  }
 },
 "nbformat": 4,
 "nbformat_minor": 5
}
