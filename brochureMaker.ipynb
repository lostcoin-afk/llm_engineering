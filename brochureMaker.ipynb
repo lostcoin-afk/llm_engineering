{
 "cells": [
  {
   "cell_type": "markdown",
   "id": "f02fc2fe",
   "metadata": {},
   "source": [
    "### Steps for this exercise\n",
    "##### 1. necessary imports \n",
    "##### 2. setting the model parameter and intializing either openai or ollama\n",
    "##### 3. Writing the Website Utility Class to scrape data even links this time\n",
    "##### 4. get all the necessary links for the given company's homePage link using the get_all_links(url) function which communicates with ollama using the system and user prompts\n",
    "##### 5. Then we create the brochure and additionaly stream if the client supports after communication with the ollama api using the system and user prompt."
   ]
  },
  {
   "cell_type": "code",
   "execution_count": 43,
   "id": "343bf893",
   "metadata": {},
   "outputs": [],
   "source": [
    "import requests\n",
    "import ollama\n",
    "import json\n",
    "from bs4 import BeautifulSoup\n",
    "from openai import OpenAI\n",
    "from IPython.display import Markdown, display, update_display\n",
    "import re"
   ]
  },
  {
   "cell_type": "code",
   "execution_count": 44,
   "id": "3fae31ab",
   "metadata": {},
   "outputs": [],
   "source": [
    "MODEL = 'gemma3:4b'\n",
    "ollama_via_openai = OpenAI(base_url=\"https://localhost:11434/v1\",api_key=\"ollama\")"
   ]
  },
  {
   "cell_type": "code",
   "execution_count": 45,
   "id": "65c53fee",
   "metadata": {},
   "outputs": [],
   "source": [
    "## A utility class for scraping Websites now also with links\n",
    "\n",
    "class Website:\n",
    "    def __init__(self,url):\n",
    "        self.url = url\n",
    "        response = requests.get(url)\n",
    "        self.body = response.content\n",
    "        soup = BeautifulSoup(self.body,'html.parser')\n",
    "        self.title = soup.title.string if soup.title else \"No title found\"\n",
    "        if soup.body:\n",
    "            for irrelevant in soup.body([\"script\", \"style\", \"img\", \"input\"]):\n",
    "                irrelevant.decompose()\n",
    "            self.text = soup.body.get_text(separator='\\n',strip=True)\n",
    "        else:\n",
    "            self.text=\"\"\n",
    "        links = [link.get('href') for link in soup.find_all('a')]\n",
    "        self.links = [link for link in links if link]\n",
    "\n",
    "    def get_contents(self):\n",
    "        return f\"Webpage Title:\\n{self.title}\\nWebpage Contents: \\n{self.text}\\n\""
   ]
  },
  {
   "cell_type": "code",
   "execution_count": 46,
   "id": "cf0302e1",
   "metadata": {},
   "outputs": [
    {
     "data": {
      "text/plain": [
       "['https://satyasai.co.in/contact-us',\n",
       " 'https://satyasai.co.in',\n",
       " '#search',\n",
       " '#',\n",
       " 'javascript:void(0)',\n",
       " '#',\n",
       " '#',\n",
       " '#',\n",
       " '#',\n",
       " '#',\n",
       " '#',\n",
       " 'https://satyasai.co.in/',\n",
       " 'https://satyasai.co.in/about-us/',\n",
       " 'https://satyasai.co.in/services/',\n",
       " 'https://satyasai.co.in/projects/',\n",
       " 'https://satyasai.co.in/contact-us/',\n",
       " '#',\n",
       " '#',\n",
       " 'javascript:;',\n",
       " 'javascript:;',\n",
       " 'javascript:;',\n",
       " 'javascript:;',\n",
       " 'javascript:;',\n",
       " 'https://www.google.com',\n",
       " 'https://rss.com',\n",
       " 'https://www.facebook.com',\n",
       " 'https://twitter.com',\n",
       " 'https://in.linkedin.com',\n",
       " 'https://satyasai.co.in/about-us/',\n",
       " 'https://satyasai.co.in/services/',\n",
       " 'https://satyasai.co.in/projects/',\n",
       " 'https://satyasai.co.in/contact-us/']"
      ]
     },
     "execution_count": 46,
     "metadata": {},
     "output_type": "execute_result"
    }
   ],
   "source": [
    "sec = Website(\"https://www.satyasai.co.in\")\n",
    "sec.links"
   ]
  },
  {
   "cell_type": "code",
   "execution_count": 47,
   "id": "cf3cdbb6",
   "metadata": {},
   "outputs": [],
   "source": [
    "link_system_prompt = \"You are provided with a list of links found on a webpage. \\\n",
    "You are able to decide which of the links would be most relevant to include in a brochure about the company, \\\n",
    "such as links to an About page, or a Company page, or Careers/Jobs pages.\\n\"\n",
    "link_system_prompt += \"You should respond in JSON object format as in this example:\"\n",
    "link_system_prompt += \"\"\"\n",
    "{\n",
    "    \"links\": [\n",
    "        {\"type\": \"about page\", \"url\": \"https://full.url/goes/here/about\"},\n",
    "        {\"type\": \"careers page\", \"url\": \"https://another.full.url/careers\"}\n",
    "    ]\n",
    "}\n",
    "\"\"\""
   ]
  },
  {
   "cell_type": "code",
   "execution_count": 48,
   "id": "d64c7092",
   "metadata": {},
   "outputs": [],
   "source": [
    "def get_links_user_prompt(website):\n",
    "    user_prompt = f\"Here is the list of links on the website of {website.url} - \"\n",
    "    user_prompt += \"please decide which of these are relevant web links for a brochure about the company, respond with the full https URL in JSON format. Do not include Terms o f Service, Privacy, email links \\n\"\n",
    "    user_prompt += \"Links (some might be relative links):\\n\"\n",
    "    user_prompt += \"\\n\".join(website.links)\n",
    "    return user_prompt"
   ]
  },
  {
   "cell_type": "code",
   "execution_count": 49,
   "id": "daf454fb",
   "metadata": {},
   "outputs": [],
   "source": [
    "def get_links(url):\n",
    "    website = Website(url)\n",
    "    response = ollama.chat(\n",
    "        model=MODEL,\n",
    "        messages=[\n",
    "            {\"role\":\"system\",\"content\":link_system_prompt},\n",
    "            {\"role\": \"user\", \"content\": get_links_user_prompt(website)}\n",
    "        ]\n",
    "    )\n",
    "    result = response[\"message\"][\"content\"]\n",
    "\n",
    "    cleaned_result = re.sub(r\"^```(?:json)?\\n|\\n```$\", \"\", result.strip())\n",
    "\n",
    "    return json.loads(cleaned_result)"
   ]
  },
  {
   "cell_type": "code",
   "execution_count": 50,
   "id": "08433d2b",
   "metadata": {},
   "outputs": [
    {
     "data": {
      "text/plain": [
       "{'links': [{'type': 'about page', 'url': 'https://huggingface.co/'},\n",
       "  {'type': 'models', 'url': 'https://huggingface.co/models/'},\n",
       "  {'type': 'datasets', 'url': 'https://huggingface.co/datasets/'},\n",
       "  {'type': 'spaces', 'url': 'https://huggingface.co/spaces/'},\n",
       "  {'type': 'documentation', 'url': 'https://huggingface.co/docs/'},\n",
       "  {'type': 'enterprise', 'url': 'https://huggingface.co/enterprise/'},\n",
       "  {'type': 'pricing', 'url': 'https://huggingface.co/pricing/'},\n",
       "  {'type': 'documentation', 'url': 'https://huggingface.co/docs/'},\n",
       "  {'type': 'documentation', 'url': 'https://huggingface.co/docs/'},\n",
       "  {'type': 'documentation', 'url': 'https://huggingface.co/docs/'},\n",
       "  {'type': 'documentation', 'url': 'https://huggingface.co/docs/'},\n",
       "  {'type': 'documentation', 'url': 'https://huggingface.co/docs/'}]}"
      ]
     },
     "execution_count": 50,
     "metadata": {},
     "output_type": "execute_result"
    }
   ],
   "source": [
    "get_links(\"https://huggingface.co\")"
   ]
  },
  {
   "cell_type": "markdown",
   "id": "c3014371",
   "metadata": {},
   "source": [
    "#### Now we have all the links in the given website/companyLink. We will now move on to the next step of actually creating the Brochure."
   ]
  },
  {
   "cell_type": "code",
   "execution_count": 51,
   "id": "dcc715da",
   "metadata": {},
   "outputs": [],
   "source": [
    "def get_all_details(url):\n",
    "    result = \"Landing Page\"\n",
    "    result += Website(url).get_contents()\n",
    "    links = get_links(url)\n",
    "    for link in links[\"links\"]:\n",
    "        result += f\"\\n\\n{link['type']}\\n\"\n",
    "        result += Website(link[\"url\"]).get_contents()\n",
    "    return result"
   ]
  },
  {
   "cell_type": "code",
   "execution_count": 52,
   "id": "c2e80939",
   "metadata": {},
   "outputs": [],
   "source": [
    "system_prompt = \"You are an assistant that analyzes the contents of several relevant pages from a company website \\\n",
    "and creates a short brochure about the company for prospective customers, investors and recruits. Respond in markdown.\\\n",
    "Include details of company culture, customers and careers/jobs if you have the information.\"\n",
    "\n",
    "# Or uncomment the lines below for a more humorous brochure - this demonstrates how easy it is to incorporate 'tone':\n",
    "\n",
    "# system_prompt = \"You are an assistant that analyzes the contents of several relevant pages from a company website \\\n",
    "# and creates a short humorous, entertaining, jokey brochure about the company for prospective customers, investors and recruits. Respond in markdown.\\\n",
    "# Include details of company culture, customers and careers/jobs if you have the information.\"\n"
   ]
  },
  {
   "cell_type": "code",
   "execution_count": 53,
   "id": "870ed998",
   "metadata": {},
   "outputs": [],
   "source": [
    "def get_brochure_user_prompt(company_name,url):\n",
    "    user_prompt = f\"You are looking at a company called: {company_name}\\n\"\n",
    "    user_prompt += f\"Here are the contents of its landing page and other relevant pages; use this information to build a short brochure of the company in markdown.\\n\"\n",
    "    user_prompt += get_all_details(url)\n",
    "    user_prompt = user_prompt[:5000] # Truncate if more than 5000 characters\n",
    "    return user_prompt"
   ]
  },
  {
   "cell_type": "code",
   "execution_count": 63,
   "id": "aab62a5e",
   "metadata": {},
   "outputs": [],
   "source": [
    "def create_brochure(companyName,url):\n",
    "    response = ollama.chat(\n",
    "        model=MODEL,\n",
    "        messages=[\n",
    "            {\"role\":\"system\",\"content\":system_prompt},\n",
    "            {\"role\":\"user\",\"content\":get_brochure_user_prompt(companyName,url)}\n",
    "        ],\n",
    "    )   \n",
    "    display(Markdown(response[\"message\"][\"content\"])) "
   ]
  },
  {
   "cell_type": "code",
   "execution_count": 64,
   "id": "145b74b2",
   "metadata": {},
   "outputs": [
    {
     "data": {
      "text/markdown": [
       "Okay, here’s a brochure designed for Satyasai Construction, incorporating the information from the provided web pages.\n",
       "\n",
       "---\n",
       "\n",
       "**Satyasai Construction: Delivering Seamless Material Solutions**\n",
       "\n",
       "**(Brochure Cover Image: A dynamic image of materials handling equipment in operation – ideally a conveyor system or forklift.)**\n",
       "\n",
       "---\n",
       "\n",
       "**For Prospective Customers**\n",
       "\n",
       "**Headline:**  Streamline Your Construction Project with Expert Materials Handling\n",
       "\n",
       "**Introduction:** Satyasai Engineering & Construction is a leading provider of innovative materials handling solutions for the construction industry. With 15+ years of experience and a commitment to quality and efficiency, we help you optimize your project’s workflow, reduce downtime, and ensure the safe and timely delivery of materials.\n",
       "\n",
       "**Key Services:**\n",
       "\n",
       "*   **Facility Design & Construction:**  Customized facilities designed for optimal workflow and efficiency.\n",
       "*   **Conveyor Systems & Automation:** Enhance material flow with cutting-edge conveyor systems and automation solutions.\n",
       "*   **Equipment Installation & Maintenance:**  Reliable installation and ongoing maintenance for long-term equipment performance.\n",
       "*   **System Upgrades & Retrofitting:** Modernize your systems for improved performance and reduced costs.\n",
       "*   **Waste Removal & Recycling:**  Sustainable solutions for responsible waste management on-site.\n",
       "\n",
       "**(Image:  A small graphic representing the core services – perhaps icons for each.)**\n",
       "\n",
       "---\n",
       "\n",
       "**For Investors**\n",
       "\n",
       "**Headline:**  Investing in a Growing Industry Leader\n",
       "\n",
       "**About Satyasai:**  Satyasai Engineering & Construction is rapidly gaining recognition for its specialized expertise in materials handling construction.  We operate with a proven track record of successful project delivery and a dedicated team focused on innovation and client satisfaction. \n",
       "\n",
       "**Key Highlights:**\n",
       "\n",
       "*   **Strong Market Position:**  A key player in the materials handling sector, with established operations across key refinery and industrial sites in India.\n",
       "*   **Experienced Team:**  A workforce of 450+ active experts, demonstrating commitment and skills.\n",
       "*   **Client Portfolio:**  Working with major Indian Oil Corporation Limited, Engineers India Limited, and National Aluminium Corporation Limited – showcasing trust and reliability.\n",
       "*   **Growth Potential:**  The demand for efficient materials handling solutions is steadily increasing, providing a solid foundation for future growth. \n",
       "*   **Financial Stability:** (Note:  This information is not available from the given pages, but would be crucial for investors.)\n",
       "\n",
       "**(Image: A graph showcasing growth trends in the materials handling sector.)**\n",
       "\n",
       "---\n",
       "\n",
       "**For Recruits/Potential Employees**\n",
       "\n",
       "**Headline:**  Join a Team Dedicated to Innovation and Excellence\n",
       "\n",
       "**About Satyasai Culture:** At Satyasai, we’re more than just a construction company; we’re a team committed to delivering exceptional results while fostering a collaborative and supportive environment.\n",
       "\n",
       "**What We Offer:**\n",
       "\n",
       "*   **Innovative Work:** Be part of a team that's constantly seeking new and improved solutions for materials handling challenges.\n",
       "*   **Growth Opportunities:**  We invest in our employees' development through training and advancement opportunities.\n",
       "*   **Teamwork & Collaboration:**  Work alongside experienced professionals in a positive and supportive atmosphere.\n",
       "*   **Commitment to Safety:**  Safety is our top priority – we maintain rigorous standards to ensure the well-being of our team.\n",
       "*  **Positive Work Environment:** Our aim is to ensure you have a friendly service provider and a good management team to lead your growth. \n",
       "\n",
       "**Career Paths:** We have a diverse range of roles available, including:\n",
       "\n",
       "*   Project Engineers\n",
       "*   Equipment Technicians\n",
       "*   Operations Specialists\n",
       "*   Maintenance Personnel\n",
       "\n",
       "**Contact Us:**  We are always looking for talented individuals to join our team. Please send your resume and cover letter to admin@satyasai.co.in or call +91 99384 73499 / +91 90400 73496.\n",
       "\n",
       "**(Image: A photo of a diverse team working together.)**\n",
       "\n",
       "\n",
       "\n",
       "---\n",
       "\n",
       "**(Back Cover)**\n",
       "\n",
       "**Satyasai Engineering & Construction**\n",
       "H.O- Chunabellari, PO: Paradeepgarh, Dist.Jagatsinghapur, Odisha, 754141\n",
       "Corporate Office: Haldia Refinery, PO: Haldia Refinery Campus, PS: Haldia, West Bengal, 721602\n",
       "admin@satyasai.co.in\n",
       "+91 99384 73499 / +91 90400 73496\n",
       "\n",
       "**(Website Address:  www.satyasai.co.in (Placeholder - Actual Website Needs to be Added)**\n",
       "\n",
       "---\n",
       "\n",
       "**Note:**  This brochure is based on the information provided.  To make it truly compelling, it would benefit from higher-quality images, more detailed service descriptions, and specific case study examples.  Also, accurate financial data would be essential for the investor brochure."
      ],
      "text/plain": [
       "<IPython.core.display.Markdown object>"
      ]
     },
     "metadata": {},
     "output_type": "display_data"
    }
   ],
   "source": [
    "create_brochure(\"satyasai\",\"https://www.satyasai.co.in\")"
   ]
  },
  {
   "cell_type": "code",
   "execution_count": null,
   "id": "f3bfa0ef",
   "metadata": {},
   "outputs": [],
   "source": [
    "\n",
    "\n",
    "from IPython.display import display, Markdown\n",
    "\n",
    "def create_stream_brochure(company_name, url):\n",
    "    stream = ollama.chat(\n",
    "        model=MODEL,\n",
    "        messages=[\n",
    "            {\"role\": \"system\", \"content\": system_prompt},\n",
    "            {\"role\": \"user\", \"content\": get_brochure_user_prompt(company_name, url)}\n",
    "        ],\n",
    "        stream=True  # Only if your Ollama client supports this\n",
    "    )\n",
    "\n",
    "    response = \"\"\n",
    "    display_handle = display(Markdown(\"\"), display_id=True)\n",
    "\n",
    "    for chunk in stream:\n",
    "        # Adjust this depending on Ollama's streaming format\n",
    "        delta = chunk.get(\"message\", {}).get(\"content\", \"\")\n",
    "        response += delta or ''\n",
    "        response = response.replace(\"```\", \"\").replace(\"markdown\", \"\")\n",
    "        update_display(Markdown(response), display_id=display_handle.display_id)"
   ]
  },
  {
   "cell_type": "code",
   "execution_count": 55,
   "id": "ddaa500b",
   "metadata": {},
   "outputs": [
    {
     "data": {
      "text/markdown": [
       "Okay, here's a brochure for Satyasai Engineering & Construction, built from the information you provided. It's designed to appeal to prospective customers, investors, and recruits.\n",
       "\n",
       "---\n",
       "\n",
       "## **Satyasai Engineering & Construction: Moving Your Project Forward**\n",
       "\n",
       "**(Image: A dynamic image of a conveyor belt moving materials, perhaps with construction equipment in the background – ideally a professional, high-quality photo)**\n",
       "\n",
       "**A Trusted Partner in Materials Handling Construction**\n",
       "\n",
       "**For Customers:**\n",
       "\n",
       "**Satyasai provides comprehensive materials handling solutions, ensuring your construction projects run smoothly and efficiently.**\n",
       "\n",
       "*   **Our Expertise:** With 15+ years of experience, we specialize in the design, construction, and maintenance of materials handling systems, including:\n",
       "    *   Facility Design & Construction\n",
       "    *   Conveyor Systems & Automation\n",
       "    *   Equipment Installation & Maintenance\n",
       "    *   System Upgrades & Retrofitting\n",
       "*   **We Serve a Wide Range of Industries:** Including Indian Oil Corporation, Engineers India Limited, National Aluminium Corporation Limited, and more.\n",
       "*   **Key Benefits:**\n",
       "    *   **Increased Efficiency:** Optimized workflows and faster project completion.\n",
       "    *   **Reduced Costs:**  Streamlined material movement minimizes delays and waste.\n",
       "    *   **Reliable Support:** Experienced team and ongoing maintenance services.\n",
       "*   **Client Testimonials:** “Satyasai Engineering & Construction Has Solid Strength with Sufficient Handling Equipment, Tools and Tackles and Well Proffessional Manpower.” – Indian Oil Corporation Limited\n",
       "\n",
       "**(Image: A collage showcasing various equipment - a conveyor belt, a forklift, a small automated system – demonstrating the breadth of capabilities.)**\n",
       "\n",
       "\n",
       "**For Investors:**\n",
       "\n",
       "**Satyasai Engineering & Construction: A Growing Opportunity**\n",
       "\n",
       "*   **Strong Market Position:**  A leader in materials handling construction in India, with a proven track record of successful projects.\n",
       "*   **Significant Growth Potential:**  The construction industry in India is booming, creating substantial demand for our services.\n",
       "*   **Key Metrics:**\n",
       "    *   **Active Experts:** 450\n",
       "    *   **Satisfied Clients:** 670\n",
       "    *   **Project Complete:** 1500+\n",
       "*   **Focus Areas:** We’re committed to innovative solutions and expansion within key sectors.\n",
       "* **Reliable Team:** Our experienced management team and skilled workforce ensure efficient operations and client satisfaction.\n",
       "\n",
       "**For Recruits:**\n",
       "\n",
       "**Join the Satyasai Team: Build Your Career in a Growing Industry!**\n",
       "\n",
       "*   **Opportunity:**  Satyasai is rapidly expanding, offering exciting career opportunities for talented individuals.\n",
       "*   **We Offer:**\n",
       "    *   **Training & Development:** Invested in our employee's skills.\n",
       "    *   **Diverse Roles:** Opportunities in engineering, project management, maintenance, and more.\n",
       "    *   **Dynamic Work Environment:**  A culture of teamwork, innovation, and commitment to quality.\n",
       "*   **Skills We Value:**  Mechanical Engineering, Electrical Engineering, Automation, Project Management.\n",
       "\n",
       "**(Image: A team photo of employees looking professional and engaged.)**\n",
       "\n",
       "\n",
       "**Contact Us:**\n",
       "\n",
       "*   **Head Office:** Chunabellari, PO: Paradeepgarh, Dist.Jagatsinghapur, Odisha, 754141\n",
       "*   **Corporate Office:** Haldia Refinery, PO: Haldia Refinery Campus, PS: Haldia, West Bengal, 721602\n",
       "*   **Email:** admin@satyasai.co.in\n",
       "*   **Phone:** +91 99384 73499 / +91 90400 73496\n",
       "*   **Website:** [Replace with actual website address when available]\n",
       "*   **Social Media Links (if available)**\n",
       "\n",
       "---\n",
       "\n",
       "**Note:** I've tried to create a brochure that is visually appealing and informative, incorporating the key elements from the website.  I've added placeholders like \"[Replace with actual website address when available]\" to ensure you can populate the final brochure with accurate details.  The image suggestions are important – high-quality images will significantly enhance the brochure’s impact."
      ],
      "text/plain": [
       "<IPython.core.display.Markdown object>"
      ]
     },
     "metadata": {},
     "output_type": "display_data"
    }
   ],
   "source": [
    "create_stream_brochure(\"satyasai\",\"https://www.satyasai.co.in\")"
   ]
  },
  {
   "cell_type": "code",
   "execution_count": null,
   "id": "521f364f",
   "metadata": {},
   "outputs": [],
   "source": []
  }
 ],
 "metadata": {
  "kernelspec": {
   "display_name": "Python 3",
   "language": "python",
   "name": "python3"
  },
  "language_info": {
   "codemirror_mode": {
    "name": "ipython",
    "version": 3
   },
   "file_extension": ".py",
   "mimetype": "text/x-python",
   "name": "python",
   "nbconvert_exporter": "python",
   "pygments_lexer": "ipython3",
   "version": "3.13.2"
  }
 },
 "nbformat": 4,
 "nbformat_minor": 5
}
