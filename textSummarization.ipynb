{
 "cells": [
  {
   "cell_type": "code",
   "execution_count": 36,
   "id": "fa5e88d5",
   "metadata": {},
   "outputs": [],
   "source": [
    "import os\n",
    "import requests\n",
    "from bs4 import BeautifulSoup\n",
    "from IPython.display import Markdown, display\n",
    "\n"
   ]
  },
  {
   "cell_type": "markdown",
   "id": "b6301d83",
   "metadata": {},
   "source": [
    "### Direct HTTP Call to locally running ollama api on port number 11434 as follows"
   ]
  },
  {
   "cell_type": "markdown",
   "id": "baeb126f",
   "metadata": {},
   "source": [
    "\n",
    "#### Steps cell wise\n",
    "\n",
    "##### Step 1:- define the api key \n",
    "##### Step 2:- define the system Prompt and the user prompt\n",
    "##### Step 3:- Define and initialize the payload\n",
    "##### Step 4:- Veify if/which ollama model you want to use using the ollama model\n",
    "##### Step 5:- Store the respone of the request.post(ollama_api, json=payload, headers=HEADERS) and then display it\n"
   ]
  },
  {
   "cell_type": "code",
   "execution_count": 37,
   "id": "9bf20a0d",
   "metadata": {},
   "outputs": [],
   "source": [
    "OLLAMA_API = \"http:''localhost:11434/api/chat\"\n",
    "HEADERS = {\"Content-Type\": \"application/json\" }\n",
    "MODEL = \"gemma3:4b\""
   ]
  },
  {
   "cell_type": "code",
   "execution_count": 38,
   "id": "c97fdcac",
   "metadata": {},
   "outputs": [],
   "source": [
    "messages = [\n",
    "    {\"role\":\"user\", \"content\":\"Tell me something about quantum physics that very interesting facts.\"}\n",
    "]"
   ]
  },
  {
   "cell_type": "code",
   "execution_count": 39,
   "id": "568daad2",
   "metadata": {},
   "outputs": [],
   "source": [
    "payload = {\n",
    "    \"model\": MODEL,\n",
    "    \"messages\": messages,\n",
    "    \"stream\": False\n",
    "}"
   ]
  },
  {
   "cell_type": "markdown",
   "id": "b305af75",
   "metadata": {},
   "source": [
    "#### Using the ollama package:- now the same thing as above but using the ollama package instead of direct HTTP call\n",
    "#### Under the hood its making the same call as above to the ollama server running at localhost:11434"
   ]
  },
  {
   "cell_type": "code",
   "execution_count": 40,
   "id": "30aa5bdd",
   "metadata": {},
   "outputs": [
    {
     "name": "stdout",
     "output_type": "stream",
     "text": [
      "Okay, let's dive into some fascinating and mind-bending facts about quantum physics! Here are a few that consistently blow people's minds, categorized for a bit of clarity:\n",
      "\n",
      "**1. The Weirdness of Observation & Wave-Particle Duality:**\n",
      "\n",
      "* **The Observer Effect:** This is arguably the most famous and unsettling quantum concept. It states that *the act of observing a quantum system fundamentally changes it*.  Think of it like this:  Before you measure the position of an electron, it exists in a blurry, probabilistic state – a superposition of all possible positions.  The moment you try to pinpoint its location, the wave function \"collapses,\" and the electron \"chooses\" one location. It's not that the electron *didn't* have a position before, but the act of measurement forces it to manifest in a specific place.\n",
      "* **Wave-Particle Duality:** Quantum objects like electrons and photons don’t behave as either waves *or* particles. They exhibit both properties, depending on how you observe them.  The famous double-slit experiment demonstrates this beautifully. When you send electrons through two slits, they create an interference pattern (like waves) on a screen behind the slits. However, if you try to observe which slit each electron passes through, the interference pattern disappears, and they behave like particles, passing through one slit or the other.\n",
      "\n",
      "\n",
      "**2. Quantum Entanglement – Spooky Action at a Distance:**\n",
      "\n",
      "* **Entangled Particles:** When two particles become entangled, their fates are linked regardless of the distance separating them. If you measure a property (like spin) of one particle, you instantly know the corresponding property of the other particle, even if they're light-years apart.\n",
      "* **Einstein's Skepticism:**  Albert Einstein famously called this \"spooky action at a distance\" because he believed it violated the principle of locality – the idea that an object can only be influenced by its immediate surroundings.  It's still debated whether entanglement is truly instantaneous communication or if there's a deeper connection we don’t yet understand.\n",
      "\n",
      "**3. Quantum Superposition & Multiple Possibilities:**\n",
      "\n",
      "* **Schrödinger’s Cat:** This thought experiment, created by Erwin Schrödinger, illustrates the bizarre nature of superposition. A cat is placed in a sealed box with a radioactive atom, a Geiger counter, and a vial of poison. Until you open the box, the atom is in a superposition of both decayed and undecayed states.  Therefore, the cat is theoretically in a superposition of being both alive *and* dead!  (It’s a thought experiment, of course, designed to highlight the strangeness.)\n",
      "* **Multiple States Simultaneously:** Quantum systems can exist in multiple states *simultaneously* until measured.  Think of it like a coin spinning in the air – it’s neither heads nor tails until it lands.\n",
      "\n",
      "**4. Quantum Tunneling – Breaking the Rules of Classical Physics:**\n",
      "\n",
      "* **Passing Through Barriers:** Quantum particles can sometimes pass through barriers that they shouldn't be able to based on classical physics.  Imagine throwing a ball at a wall – it bounces back. But an electron can “tunnel” through a barrier as if it were going straight through. This is due to the probability wave nature of the particle.\n",
      "\n",
      "\n",
      "**Resources for Further Exploration:**\n",
      "\n",
      "* **PBS NOVA - Quantum Entanglement:** [https://www.pbs.org/wgbh/nova/quantum/entanglement.html](https://www.pbs.org/wgbh/nova/quantum/entanglement.html)\n",
      "* **Wikipedia - Quantum Mechanics:** [https://en.wikipedia.org/wiki/Quantum_mechanics](https://en.wikipedia.org/wiki/Quantum_mechanics)\n",
      "\n",
      "\n",
      "**Important Note:** Quantum physics is inherently counterintuitive. It describes a reality that is fundamentally different from our everyday experiences. Don’t worry if you don’t fully grasp it – even physicists still grapple with its implications!\n",
      "\n",
      "Do you want me to delve into a specific aspect of quantum physics in more detail, such as:\n",
      "\n",
      "*   The Heisenberg Uncertainty Principle?\n",
      "*   Quantum Field Theory?\n",
      "*   Applications of quantum mechanics (like quantum computing)?\n"
     ]
    }
   ],
   "source": [
    "import ollama\n",
    "\n",
    "response = ollama.chat(model=MODEL, messages=messages)\n",
    "print(response['message']['content'])"
   ]
  },
  {
   "cell_type": "markdown",
   "id": "23d63dd0",
   "metadata": {},
   "source": [
    "##### Using the OpenAI API for the same summary task instead of ollama package"
   ]
  },
  {
   "cell_type": "code",
   "execution_count": 41,
   "id": "3328058b",
   "metadata": {},
   "outputs": [
    {
     "name": "stdout",
     "output_type": "stream",
     "text": [
      "Okay, let's dive into some fascinating and mind-bending facts from the world of quantum physics! Here are a few that consistently blow people's minds:\n",
      "\n",
      "**1. Superposition: Existing in Multiple States at Once**\n",
      "\n",
      "* **The Idea:** This is arguably the most famous and weirdest concept. Before you measure a quantum particle (like an electron), it doesn't have a definite position, momentum, or spin. Instead, it exists in a *superposition* of all possible states simultaneously.  \n",
      "* **Think of it like this:** Imagine a coin spinning in the air. It's neither heads nor tails until it lands. Similarly, an electron can be in multiple locations or spin directions at the same time.\n",
      "* **The Measurement Problem:** The really strange thing is that *the act of measuring* forces the particle to \"choose\" one of those states. It's like the coin finally landing on heads or tails.\n",
      "\n",
      "\n",
      "**2. Quantum Entanglement: Spooky Action at a Distance**\n",
      "\n",
      "* **The Idea:** Two entangled particles become linked, regardless of the distance separating them. If you measure the property of one particle, you instantly know the corresponding property of the other, even if they’re light-years apart.\n",
      "* **Einstein Called it \"Spooky Action at a Distance\":** He was deeply troubled by this concept, as it seemed to violate the speed of light – the fundamental limit on how fast information can travel.\n",
      "* **It's Not Communication:**  Crucially, entanglement doesn't allow for faster-than-light communication. You can't use it to send a message.  You only know the state of the other particle *after* you've made your measurement.\n",
      "\n",
      "**3. Quantum Tunneling: Passing Through Walls**\n",
      "\n",
      "* **The Idea:**  A quantum particle can pass through a potential barrier, even if it doesn't have enough energy to overcome it classically. \n",
      "* **It's Random:** The probability of tunneling depends on the barrier's width and height, but there's always a chance that the particle will appear on the other side.\n",
      "* **Real-World Implications:** Tunneling is essential for processes like nuclear fusion in stars and is being explored for use in future technologies like quantum computers.\n",
      "\n",
      "**4. The Heisenberg Uncertainty Principle:**\n",
      "\n",
      "* **The Idea:** You can’t simultaneously know both the position and momentum of a particle with perfect accuracy. The more accurately you know one, the less you know about the other. \n",
      "* **It’s a Fundamental Limit:** This isn't a limitation of our instruments; it's a fundamental property of the universe at the quantum level.\n",
      "\n",
      "\n",
      "**5. Wave-Particle Duality:**\n",
      "\n",
      "* **The Idea:** Quantum objects (like electrons and photons) can behave as both waves and particles. \n",
      "* **The Double-Slit Experiment:** A classic demonstration of this is the double-slit experiment, where particles fired at a screen with two slits create an interference pattern, as if they were waves, even when fired one at a time.\n",
      "\n",
      "\n",
      "---\n",
      "\n",
      "**Resources to Learn More:**\n",
      "\n",
      "* **PBS NOVA - Quantum Entanglement:** [https://www.pbs.org/wgbh/nova/quantum/entanglement.html](https://www.pbs.org/wgbh/nova/quantum/entanglement.html)\n",
      "* **Wikipedia - Quantum Mechanics:** [https://en.wikipedia.org/wiki/Quantum_mechanics](https://en.wikipedia.org/wiki/Quantum_mechanics)\n",
      "\n",
      "**Do you want me to delve deeper into a specific aspect of quantum physics, such as:**\n",
      "\n",
      "*   The double-slit experiment in more detail?\n",
      "*   How quantum physics is being used in technologies like quantum computing?\n",
      "*   A specific interpretation of quantum mechanics (e.g., Many-Worlds)?\n"
     ]
    }
   ],
   "source": [
    "from openai import OpenAI\n",
    "ollama_via_openai = OpenAI(base_url='http://localhost:11434/v1', api_key='ollama')\n",
    "\n",
    "response = ollama_via_openai.chat.completions.create(\n",
    "    model = MODEL,\n",
    "    messages = messages\n",
    ")\n",
    "\n",
    "print(response.choices[0].message.content)"
   ]
  },
  {
   "cell_type": "markdown",
   "id": "0a67b71a",
   "metadata": {},
   "source": [
    "##### The above task can be completed using the openai api even if the model was ollama i.e. open source because OpenAI api is simply a code written by OpenAI engineers that makes calls over the internet to an endpoint.\n",
    "\n",
    "###### openeai.chat.completions.create() python code just makes a web request to the \"https://api.openai.com/v1/chat/completions\"  so instead of this we just place our own localhost://111434/api/chat and it works becuase  of the same format structure."
   ]
  },
  {
   "cell_type": "code",
   "execution_count": null,
   "id": "1492366c",
   "metadata": {},
   "outputs": [],
   "source": []
  },
  {
   "cell_type": "markdown",
   "id": "35cce9bc",
   "metadata": {},
   "source": [
    "## Website Summarizer Exercise"
   ]
  },
  {
   "cell_type": "code",
   "execution_count": 42,
   "id": "855250ae",
   "metadata": {},
   "outputs": [],
   "source": [
    "class Website:\n",
    "    def __init__(self,url):\n",
    "        self.url = url\n",
    "        response = requests.get(url)\n",
    "        soup = BeautifulSoup(response.content, 'html.parser')\n",
    "        self.title = soup.title.string if soup.title else \"No title found\"\n",
    "        for irrelevant in soup.body([\"script\",\"style\",\"img\",\"input\"]):\n",
    "            irrelevant.decompose()\n",
    "        self.text = soup.body.get_text(separator=\"\\n\", strip=True)\n",
    "\n",
    "\n"
   ]
  },
  {
   "cell_type": "code",
   "execution_count": 59,
   "id": "b8d0e18b",
   "metadata": {},
   "outputs": [],
   "source": [
    "sec = \"https://www.satyasai.co.in\"\n",
    "sec1 = \"https://www.satyasai.co.in/about-us\"\n",
    "# print(sec.title)\n",
    "# print(sec.text)"
   ]
  },
  {
   "cell_type": "markdown",
   "id": "ceb7435d",
   "metadata": {},
   "source": [
    "#### Now we will use the below prompts to communicate with the local ollama gemma3:4b llms"
   ]
  },
  {
   "cell_type": "code",
   "execution_count": 60,
   "id": "2938d7b9",
   "metadata": {},
   "outputs": [],
   "source": [
    "system_prompt = \"You are an assistant that analyzes the contents of a website and provides a short summary, ignoring text that might be navigation related. Respond in markdown.\""
   ]
  },
  {
   "cell_type": "code",
   "execution_count": 61,
   "id": "65780273",
   "metadata": {},
   "outputs": [],
   "source": [
    "\n",
    "def user_prompt_for(website):\n",
    "    user_prompt = f\"You  are looking at a website {website.title}\"\n",
    "    user_prompt += \"\\nThe contentes of this website is as follows; \"\n",
    "    user_prompt += website.text\n",
    "    return user_prompt"
   ]
  },
  {
   "cell_type": "code",
   "execution_count": 62,
   "id": "7eba9960",
   "metadata": {},
   "outputs": [
    {
     "ename": "AttributeError",
     "evalue": "'str' object has no attribute 'text'",
     "output_type": "error",
     "traceback": [
      "\u001b[31m---------------------------------------------------------------------------\u001b[39m",
      "\u001b[31mAttributeError\u001b[39m                            Traceback (most recent call last)",
      "\u001b[36mCell\u001b[39m\u001b[36m \u001b[39m\u001b[32mIn[62]\u001b[39m\u001b[32m, line 1\u001b[39m\n\u001b[32m----> \u001b[39m\u001b[32m1\u001b[39m \u001b[38;5;28mprint\u001b[39m(\u001b[43muser_prompt_for\u001b[49m\u001b[43m(\u001b[49m\u001b[43msec\u001b[49m\u001b[43m)\u001b[49m)\n",
      "\u001b[36mCell\u001b[39m\u001b[36m \u001b[39m\u001b[32mIn[61]\u001b[39m\u001b[32m, line 4\u001b[39m, in \u001b[36muser_prompt_for\u001b[39m\u001b[34m(website)\u001b[39m\n\u001b[32m      2\u001b[39m user_prompt = \u001b[33mf\u001b[39m\u001b[33m\"\u001b[39m\u001b[33mYou  are looking at a website \u001b[39m\u001b[38;5;132;01m{\u001b[39;00mwebsite.title\u001b[38;5;132;01m}\u001b[39;00m\u001b[33m\"\u001b[39m\n\u001b[32m      3\u001b[39m user_prompt += \u001b[33m\"\u001b[39m\u001b[38;5;130;01m\\n\u001b[39;00m\u001b[33mThe contentes of this website is as follows; \u001b[39m\u001b[33m\"\u001b[39m\n\u001b[32m----> \u001b[39m\u001b[32m4\u001b[39m user_prompt += \u001b[43mwebsite\u001b[49m\u001b[43m.\u001b[49m\u001b[43mtext\u001b[49m\n\u001b[32m      5\u001b[39m \u001b[38;5;28;01mreturn\u001b[39;00m user_prompt\n",
      "\u001b[31mAttributeError\u001b[39m: 'str' object has no attribute 'text'"
     ]
    }
   ],
   "source": [
    "print(user_prompt_for(sec))"
   ]
  },
  {
   "cell_type": "code",
   "execution_count": 63,
   "id": "eedbe8d1",
   "metadata": {},
   "outputs": [],
   "source": [
    "def messages_for(website):\n",
    "    return [\n",
    "        {\"role\":\"system\", \"content\":system_prompt},\n",
    "        {\"role\":\"user\", \"content\":user_prompt_for(website)}\n",
    "    ]"
   ]
  },
  {
   "cell_type": "code",
   "execution_count": 64,
   "id": "6049823f",
   "metadata": {},
   "outputs": [
    {
     "ename": "AttributeError",
     "evalue": "'str' object has no attribute 'text'",
     "output_type": "error",
     "traceback": [
      "\u001b[31m---------------------------------------------------------------------------\u001b[39m",
      "\u001b[31mAttributeError\u001b[39m                            Traceback (most recent call last)",
      "\u001b[36mCell\u001b[39m\u001b[36m \u001b[39m\u001b[32mIn[64]\u001b[39m\u001b[32m, line 1\u001b[39m\n\u001b[32m----> \u001b[39m\u001b[32m1\u001b[39m \u001b[43mmessages_for\u001b[49m\u001b[43m(\u001b[49m\u001b[43msec\u001b[49m\u001b[43m)\u001b[49m\n",
      "\u001b[36mCell\u001b[39m\u001b[36m \u001b[39m\u001b[32mIn[63]\u001b[39m\u001b[32m, line 4\u001b[39m, in \u001b[36mmessages_for\u001b[39m\u001b[34m(website)\u001b[39m\n\u001b[32m      1\u001b[39m \u001b[38;5;28;01mdef\u001b[39;00m\u001b[38;5;250m \u001b[39m\u001b[34mmessages_for\u001b[39m(website):\n\u001b[32m      2\u001b[39m     \u001b[38;5;28;01mreturn\u001b[39;00m [\n\u001b[32m      3\u001b[39m         {\u001b[33m\"\u001b[39m\u001b[33mrole\u001b[39m\u001b[33m\"\u001b[39m:\u001b[33m\"\u001b[39m\u001b[33msystem\u001b[39m\u001b[33m\"\u001b[39m, \u001b[33m\"\u001b[39m\u001b[33mcontent\u001b[39m\u001b[33m\"\u001b[39m:system_prompt},\n\u001b[32m----> \u001b[39m\u001b[32m4\u001b[39m         {\u001b[33m\"\u001b[39m\u001b[33mrole\u001b[39m\u001b[33m\"\u001b[39m:\u001b[33m\"\u001b[39m\u001b[33muser\u001b[39m\u001b[33m\"\u001b[39m, \u001b[33m\"\u001b[39m\u001b[33mcontent\u001b[39m\u001b[33m\"\u001b[39m:\u001b[43muser_prompt_for\u001b[49m\u001b[43m(\u001b[49m\u001b[43mwebsite\u001b[49m\u001b[43m)\u001b[49m}\n\u001b[32m      5\u001b[39m     ]\n",
      "\u001b[36mCell\u001b[39m\u001b[36m \u001b[39m\u001b[32mIn[61]\u001b[39m\u001b[32m, line 4\u001b[39m, in \u001b[36muser_prompt_for\u001b[39m\u001b[34m(website)\u001b[39m\n\u001b[32m      2\u001b[39m user_prompt = \u001b[33mf\u001b[39m\u001b[33m\"\u001b[39m\u001b[33mYou  are looking at a website \u001b[39m\u001b[38;5;132;01m{\u001b[39;00mwebsite.title\u001b[38;5;132;01m}\u001b[39;00m\u001b[33m\"\u001b[39m\n\u001b[32m      3\u001b[39m user_prompt += \u001b[33m\"\u001b[39m\u001b[38;5;130;01m\\n\u001b[39;00m\u001b[33mThe contentes of this website is as follows; \u001b[39m\u001b[33m\"\u001b[39m\n\u001b[32m----> \u001b[39m\u001b[32m4\u001b[39m user_prompt += \u001b[43mwebsite\u001b[49m\u001b[43m.\u001b[49m\u001b[43mtext\u001b[49m\n\u001b[32m      5\u001b[39m \u001b[38;5;28;01mreturn\u001b[39;00m user_prompt\n",
      "\u001b[31mAttributeError\u001b[39m: 'str' object has no attribute 'text'"
     ]
    }
   ],
   "source": [
    "messages_for(sec)"
   ]
  },
  {
   "cell_type": "code",
   "execution_count": null,
   "id": "7757417e",
   "metadata": {},
   "outputs": [],
   "source": []
  },
  {
   "cell_type": "code",
   "execution_count": 65,
   "id": "ba21f35b",
   "metadata": {},
   "outputs": [],
   "source": [
    "def summarize(url):\n",
    "    website = Website(url)\n",
    "    # ollama_via_openai = OpenAI(base_url=\"https://localhost:11434/v1\")\n",
    "    response = ollama.chat(\n",
    "        model=MODEL,\n",
    "        messages=messages_for(website)\n",
    "    )\n",
    "\n",
    "    return response[\"message\"][\"content\"]"
   ]
  },
  {
   "cell_type": "code",
   "execution_count": 66,
   "id": "4b43f6c1",
   "metadata": {},
   "outputs": [],
   "source": [
    "def display_summary(url):\n",
    "    summary = summarize(url)\n",
    "    display(Markdown(summary))"
   ]
  },
  {
   "cell_type": "code",
   "execution_count": 67,
   "id": "325b71b4",
   "metadata": {},
   "outputs": [
    {
     "data": {
      "text/markdown": [
       "Satyasai Construction is a materials handling construction company with over 15 years of experience. They offer solutions including:\n",
       "\n",
       "*   **Materials Handling:** Focusing on loading, unloading, movement, and management of materials and equipment.\n",
       "*   **On-Site Material Management:**  Streamlining resource delivery and management.\n",
       "*   **Equipment Handling:**  Installation and maintenance of materials handling equipment.\n",
       "*   **Waste Removal and Recycling:**  Managing waste disposal.\n",
       "\n",
       "They provide services like facility design & construction, conveyor systems & automation, equipment installation & maintenance, and system upgrades.  The company has a team of 450 active experts and has worked with clients like Indian Oil Corporation Limited, Engineers India Limited, and National Aluminium Corporation Limited.  They emphasize reliable and efficient solutions for the construction industry."
      ],
      "text/plain": [
       "<IPython.core.display.Markdown object>"
      ]
     },
     "metadata": {},
     "output_type": "display_data"
    }
   ],
   "source": [
    "display_summary(sec)"
   ]
  },
  {
   "cell_type": "code",
   "execution_count": 68,
   "id": "18f70241",
   "metadata": {},
   "outputs": [
    {
     "data": {
      "text/markdown": [
       "Satyasai Construction specializes in materials and warehouse handling construction solutions. They offer facility design & construction, conveyor systems & automation, equipment installation & maintenance, and system upgrades/retrofitting. The company has 15+ years of experience and focuses on the movement, transportation, and management of materials and equipment within construction sites. They operate out of offices in Odisha and West Bengal."
      ],
      "text/plain": [
       "<IPython.core.display.Markdown object>"
      ]
     },
     "metadata": {},
     "output_type": "display_data"
    }
   ],
   "source": [
    "display_summary(sec1)"
   ]
  },
  {
   "cell_type": "code",
   "execution_count": null,
   "id": "086047d2",
   "metadata": {},
   "outputs": [],
   "source": []
  }
 ],
 "metadata": {
  "kernelspec": {
   "display_name": "Python 3",
   "language": "python",
   "name": "python3"
  },
  "language_info": {
   "codemirror_mode": {
    "name": "ipython",
    "version": 3
   },
   "file_extension": ".py",
   "mimetype": "text/x-python",
   "name": "python",
   "nbconvert_exporter": "python",
   "pygments_lexer": "ipython3",
   "version": "3.13.2"
  }
 },
 "nbformat": 4,
 "nbformat_minor": 5
}
