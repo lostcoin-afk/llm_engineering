{
 "cells": [
  {
   "cell_type": "code",
   "execution_count": 1,
   "id": "fa5e88d5",
   "metadata": {},
   "outputs": [],
   "source": [
    "import os\n",
    "import requests\n",
    "from bs4 import BeautifulSoup\n",
    "from IPython.display import Markdown, display\n",
    "\n"
   ]
  },
  {
   "cell_type": "markdown",
   "id": "b6301d83",
   "metadata": {},
   "source": [
    "### Direct HTTP Call to locally running ollama api on port number 11434 as follows"
   ]
  },
  {
   "cell_type": "markdown",
   "id": "baeb126f",
   "metadata": {},
   "source": [
    "\n",
    "#### Steps cell wise\n",
    "\n",
    "##### Step 1:- define the api key \n",
    "##### Step 2:- define the system Prompt and the user prompt\n",
    "##### Step 3:- Define and initialize the payload\n",
    "##### Step 4:- Veify if/which ollama model you want to use using the ollama model\n",
    "##### Step 5:- Store the respone of the request.post(ollama_api, json=payload, headers=HEADERS) and then display it\n"
   ]
  },
  {
   "cell_type": "code",
   "execution_count": 2,
   "id": "9bf20a0d",
   "metadata": {},
   "outputs": [],
   "source": [
    "OLLAMA_API = \"http:''localhost:11434/api/chat\"\n",
    "HEADERS = {\"Content-Type\": \"application/json\" }\n",
    "MODEL = \"gemma3:4b\""
   ]
  },
  {
   "cell_type": "code",
   "execution_count": 3,
   "id": "c97fdcac",
   "metadata": {},
   "outputs": [],
   "source": [
    "messages = [\n",
    "    {\"role\":\"user\", \"content\":\"Tell me something about quantum physics that very interesting facts.\"}\n",
    "]"
   ]
  },
  {
   "cell_type": "code",
   "execution_count": 4,
   "id": "568daad2",
   "metadata": {},
   "outputs": [],
   "source": [
    "payload = {\n",
    "    \"model\": MODEL,\n",
    "    \"messages\": messages,\n",
    "    \"stream\": False\n",
    "}"
   ]
  },
  {
   "cell_type": "markdown",
   "id": "b305af75",
   "metadata": {},
   "source": [
    "#### Using the ollama package:- now the same thing as above but using the ollama package instead of direct HTTP call\n",
    "#### Under the hood its making the same call as above to the ollama server running at localhost:11434"
   ]
  },
  {
   "cell_type": "code",
   "execution_count": 5,
   "id": "30aa5bdd",
   "metadata": {},
   "outputs": [
    {
     "name": "stdout",
     "output_type": "stream",
     "text": [
      "Okay, let's dive into some truly fascinating aspects of quantum physics! Here are a few facts that often blow people's minds:\n",
      "\n",
      "**1. Quantum Superposition: Being in Multiple States at Once**\n",
      "\n",
      "* **The Idea:** This is arguably the most mind-bending concept. Quantum particles, like electrons, don't always have a definite position or state until we measure them. Instead, they exist in a *superposition* of all possible states simultaneously. Think of it like a coin spinning in the air - it's neither heads nor tails until it lands.\n",
      "* **The Experiment:** The famous double-slit experiment demonstrates this brilliantly. When electrons are fired at a barrier with two slits, they create an interference pattern (like waves would) even though they're sent through one at a time. This suggests they’re going through *both* slits at the same time!\n",
      "* **Why it's interesting:** It fundamentally challenges our classical understanding of reality – that things have definite properties at all times.\n",
      "\n",
      "\n",
      "**2. Quantum Entanglement: Spooky Action at a Distance**\n",
      "\n",
      "* **The Idea:** When two or more particles become entangled, their fates are intertwined, no matter how far apart they are. If you measure the property of one entangled particle (like its spin), you instantly know the corresponding property of the other, even if they’re light-years away.\n",
      "* **Einstein Called it \"Spooky Action at a Distance\"**: He was skeptical of this because it seemed to violate the speed of light – information couldn't be transmitted faster than light.\n",
      "* **Why it’s interesting:** It suggests a deeper connection in the universe, and potential applications for quantum communication and computation.\n",
      "\n",
      "\n",
      "**3. Quantum Tunneling: Passing Through Walls**\n",
      "\n",
      "* **The Idea:**  A quantum particle can pass through a barrier, even if it doesn’t have enough energy to overcome it classically. It's like teleporting – but not in the way we usually think about it.\n",
      "* **How it works:** Due to the uncertainty principle, there’s a non-zero probability that the particle will “tunnel” through the barrier.\n",
      "* **Real-World Applications:**  Quantum tunneling is crucial for processes like nuclear fusion in stars and is being explored for use in extremely fast transistors.\n",
      "\n",
      "\n",
      "\n",
      "**4. The Uncertainty Principle (Heisenberg): You Can’t Know Everything**\n",
      "\n",
      "* **The Idea:** This principle, formulated by Werner Heisenberg, states that there’s a fundamental limit to how precisely you can know certain pairs of properties of a particle, like its position and momentum. The more accurately you know one, the less accurately you know the other.\n",
      "* **Why it's interesting:** It's not just a limitation of our instruments; it’s a fundamental property of the universe. It means reality itself is inherently probabilistic.\n",
      "\n",
      "\n",
      "\n",
      "**5. Quantum Fluctuations – Empty Space Isn't Empty**\n",
      "\n",
      "* **The Idea:** According to quantum field theory, even “empty” space is teeming with virtual particles constantly popping in and out of existence. These particles exist for incredibly short periods, governed by the uncertainty principle.\n",
      "* **Why it’s interesting:** These fluctuations have measurable effects, like the Casimir effect (a force between two closely spaced metal plates due to quantum fluctuations).\n",
      "\n",
      "---\n",
      "\n",
      "**Resources to Learn More:**\n",
      "\n",
      "* **PBS NOVA - Quantum Entanglement:** [https://www.pbs.org/wgbh/nova/quantum/entanglement.html](https://www.pbs.org/wgbh/nova/quantum/entanglement.html)\n",
      "* **Wikipedia - Quantum Mechanics:** [https://en.wikipedia.org/wiki/Quantum_mechanics](https://en.wikipedia.org/wiki/Quantum_mechanics)\n",
      "* **YouTube - PBS Eons - Quantum Fluctuations:** [https://m.youtube.com/watch?v=uK39w92i9pM](https://m.youtube.com/watch?v=uK39w92i9pM)\n",
      "\n",
      "\n",
      "\n",
      "Do you want me to delve deeper into any of these specific facts, or would you like me to explain a different aspect of quantum physics?  For example, would you like to know more about:\n",
      "\n",
      "*   Quantum computing?\n",
      "*   The Many-Worlds Interpretation?\n",
      "*   How quantum physics is used in technology?\n"
     ]
    }
   ],
   "source": [
    "import ollama\n",
    "\n",
    "response = ollama.chat(model=MODEL, messages=messages)\n",
    "print(response['message']['content'])"
   ]
  },
  {
   "cell_type": "markdown",
   "id": "23d63dd0",
   "metadata": {},
   "source": [
    "##### Using the OpenAI API for the same summary task instead of ollama package"
   ]
  },
  {
   "cell_type": "code",
   "execution_count": 6,
   "id": "3328058b",
   "metadata": {},
   "outputs": [
    {
     "name": "stdout",
     "output_type": "stream",
     "text": [
      "Okay, let's dive into some truly mind-bending facts about quantum physics! Here are a few that consistently fascinate and challenge our everyday intuitions:\n",
      "\n",
      "**1. Quantum Superposition: Being in Multiple States at Once**\n",
      "\n",
      "* **The Idea:** This is arguably the most famous quantum concept. It states that a quantum particle (like an electron) can exist in multiple states *simultaneously* until it’s measured.  Imagine a coin spinning in the air – it's neither heads nor tails until it lands.  Similarly, an electron can be in multiple energy levels, spin states (up and down), or locations at the same time.\n",
      "* **The Weirdness:**  It’s not that we *don’t know* where it is; it's genuinely in multiple places or states at once. Our measurement forces it to “choose” a single definite state.\n",
      "* **Example:** Schrödinger’s Cat – a famous thought experiment. A cat is placed in a sealed box with a radioactive atom, a detector, and a vial of poison. Until you open the box, the atom is in a superposition of decayed and undecayed states, and therefore the cat is (theoretically) both dead and alive!\n",
      "\n",
      "\n",
      "\n",
      "**2. Quantum Entanglement: Spooky Action at a Distance**\n",
      "\n",
      "* **The Idea:** Two or more particles can become linked in such a way that they share the same fate, no matter how far apart they are. If you measure the property (like spin) of one entangled particle, you instantly know the corresponding property of the other, even if they're light-years apart.\n",
      "* **The Weirdness:**  This happens instantaneously – faster than the speed of light! Einstein called it \"spooky action at a distance\" because it seemed to violate the fundamental rule that nothing can travel faster than light.  It doesn’t allow for faster-than-light communication, though, because you can’t *control* the outcome of the measurement on one particle to send a signal to the other.\n",
      "* **Current Research:** Scientists are actively exploring entanglement for quantum computing and quantum cryptography – potentially creating incredibly secure communication methods.\n",
      "\n",
      "\n",
      "\n",
      "**3. Quantum Tunneling:  Passing Through Walls**\n",
      "\n",
      "* **The Idea:** A particle can pass through a barrier even if it doesn’t have enough energy to overcome it classically. It's like a ghost walking through a wall.\n",
      "* **The Weirdness:** This doesn’t violate conservation of energy because the particle doesn't actually *travel* through the barrier; it simply appears on the other side as if it \"tunneled\" through. It’s a purely probabilistic event – there's a certain chance the particle will tunnel through, but there’s no way to predict exactly when.\n",
      "* **Applications:** Quantum tunneling is essential for processes like nuclear fusion in the sun and is being explored for applications in nanoscale electronics.\n",
      "\n",
      "\n",
      "\n",
      "**4. The Observer Effect: Measurement Changes Reality**\n",
      "\n",
      "* **The Idea:** The act of observing or measuring a quantum system fundamentally alters it. \n",
      "* **The Weirdness:** Before measurement, a quantum system exists in a superposition of states. When you try to measure it, the measurement *forces* it to collapse into a single definite state. \n",
      "* **It's Not Just About Looking:**  It's not just about a human observer; even the interaction of the measuring device with the quantum system causes the collapse.\n",
      "\n",
      "\n",
      "\n",
      "**5. Quantum Fluctuations: Empty Space Isn’t Really Empty**\n",
      "\n",
      "* **The Idea:**  Due to the uncertainty principle, virtual particles are constantly popping into and out of existence in empty space.\n",
      "* **The Weirdness:**  According to quantum field theory, empty space isn't truly empty; it’s teeming with temporary particles and antiparticles that briefly appear and disappear.  These fluctuations have real, measurable effects, like contributing to the Casimir effect (a force between two closely spaced plates).\n",
      "\n",
      "---\n",
      "\n",
      "**Resources to Learn More:**\n",
      "\n",
      "* **Wikipedia:** [https://en.wikipedia.org/wiki/Quantum_mechanics](https://en.wikipedia.org/wiki/Quantum_mechanics)\n",
      "* **PBS NOVA - Quantum Mechanics:** [https://www.pbs.org/wgbh/nova/quantum/](https://www.pbs.org/wgbh/nova/quantum/)\n",
      "\n",
      "\n",
      "\n",
      "Do you want me to delve deeper into a specific aspect of quantum physics, such as:\n",
      "\n",
      "*   Quantum computing?\n",
      "*   The interpretation of quantum mechanics (e.g., Many-Worlds Interpretation)?\n",
      "*   A particular experiment (like the double-slit experiment)?\n"
     ]
    }
   ],
   "source": [
    "from openai import OpenAI\n",
    "ollama_via_openai = OpenAI(base_url='http://localhost:11434/v1', api_key='ollama')\n",
    "\n",
    "response = ollama_via_openai.chat.completions.create(\n",
    "    model = MODEL,\n",
    "    messages = messages\n",
    ")\n",
    "\n",
    "print(response.choices[0].message.content)"
   ]
  },
  {
   "cell_type": "markdown",
   "id": "b06c28d1",
   "metadata": {},
   "source": []
  },
  {
   "cell_type": "markdown",
   "id": "0a67b71a",
   "metadata": {},
   "source": [
    "##### The above task can be completed using the openai api even if the model was ollama i.e. open source because OpenAI api is simply a code written by OpenAI engineers that makes calls over the internet to an endpoint.\n",
    "\n",
    "###### openeai.chat.completions.create() python code just makes a web request to the \"https://api.openai.com/v1/chat/completions\"  so instead of this we just place our own localhost://111434/api/chat and it works becuase  of the same format structure."
   ]
  },
  {
   "cell_type": "code",
   "execution_count": null,
   "id": "1492366c",
   "metadata": {},
   "outputs": [],
   "source": []
  },
  {
   "cell_type": "markdown",
   "id": "35cce9bc",
   "metadata": {},
   "source": [
    "## Website Summarizer Exercise"
   ]
  },
  {
   "cell_type": "code",
   "execution_count": 7,
   "id": "855250ae",
   "metadata": {},
   "outputs": [],
   "source": [
    "class Website:\n",
    "    def __init__(self,url):\n",
    "        self.url = url\n",
    "        response = requests.get(url)\n",
    "        soup = BeautifulSoup(response.content, 'html.parser')\n",
    "        self.title = soup.title.string if soup.title else \"No title found\"\n",
    "        for irrelevant in soup.body([\"script\",\"style\",\"img\",\"input\"]):\n",
    "            irrelevant.decompose()\n",
    "        self.text = soup.body.get_text(separator=\"\\n\", strip=True)\n",
    "\n",
    "\n"
   ]
  },
  {
   "cell_type": "code",
   "execution_count": 41,
   "id": "b8d0e18b",
   "metadata": {},
   "outputs": [],
   "source": [
    "sec = \"https://github.com/lostcoin-afk\"\n",
    "sec1 = \"https://github.com/lostcoin-afk?tab=repositories\"\n",
    "# print(sec.title)\n",
    "# print(sec.text)"
   ]
  },
  {
   "cell_type": "markdown",
   "id": "ceb7435d",
   "metadata": {},
   "source": [
    "#### Now we will use the below prompts to communicate with the local ollama gemma3:4b llms"
   ]
  },
  {
   "cell_type": "code",
   "execution_count": 42,
   "id": "2938d7b9",
   "metadata": {},
   "outputs": [],
   "source": [
    "system_prompt = \"You are an assistant that analyzes the contents of a website and provides a short summary, ignoring text that might be navigation related. Respond in markdown.\""
   ]
  },
  {
   "cell_type": "code",
   "execution_count": 43,
   "id": "65780273",
   "metadata": {},
   "outputs": [],
   "source": [
    "\n",
    "def user_prompt_for(website):\n",
    "    user_prompt = f\"You  are looking at a website {website.title}\"\n",
    "    user_prompt += \"\\nThe contentes of this website is as follows; \"\n",
    "    user_prompt += website.text\n",
    "    return user_prompt"
   ]
  },
  {
   "cell_type": "code",
   "execution_count": 44,
   "id": "7eba9960",
   "metadata": {},
   "outputs": [],
   "source": [
    "# print(user_prompt_for(sec))"
   ]
  },
  {
   "cell_type": "code",
   "execution_count": 45,
   "id": "eedbe8d1",
   "metadata": {},
   "outputs": [],
   "source": [
    "def messages_for(website):\n",
    "    return [\n",
    "        {\"role\":\"system\", \"content\":system_prompt},\n",
    "        {\"role\":\"user\", \"content\":user_prompt_for(website)}\n",
    "    ]"
   ]
  },
  {
   "cell_type": "code",
   "execution_count": 46,
   "id": "6049823f",
   "metadata": {},
   "outputs": [],
   "source": [
    "# messages_for(sec)"
   ]
  },
  {
   "cell_type": "code",
   "execution_count": null,
   "id": "7757417e",
   "metadata": {},
   "outputs": [],
   "source": []
  },
  {
   "cell_type": "code",
   "execution_count": 47,
   "id": "ba21f35b",
   "metadata": {},
   "outputs": [],
   "source": [
    "def summarize(url):\n",
    "    website = Website(url)\n",
    "    # ollama_via_openai = OpenAI(base_url=\"https://localhost:11434/v1\")\n",
    "    response = ollama.chat(\n",
    "        model=MODEL,\n",
    "        messages=messages_for(website)\n",
    "    )\n",
    "\n",
    "    return response[\"message\"][\"content\"]"
   ]
  },
  {
   "cell_type": "code",
   "execution_count": 48,
   "id": "4b43f6c1",
   "metadata": {},
   "outputs": [],
   "source": [
    "def display_summary(url):\n",
    "    summary = summarize(url)\n",
    "    display(Markdown(summary))"
   ]
  },
  {
   "cell_type": "code",
   "execution_count": 49,
   "id": "325b71b4",
   "metadata": {},
   "outputs": [
    {
     "data": {
      "text/markdown": [
       "This GitHub page highlights GitHub's diverse offerings, focusing on developer tools and services. It showcases features like GitHub Copilot, GitHub Advanced Security, and Codespaces, emphasizing AI-powered development and enhanced security. The page also lists a collection of public repositories, primarily focused on data analysis and AI-driven projects. Finally, it provides resources like documentation, learning pathways, and community support."
      ],
      "text/plain": [
       "<IPython.core.display.Markdown object>"
      ]
     },
     "metadata": {},
     "output_type": "display_data"
    }
   ],
   "source": [
    "display_summary(sec)"
   ]
  },
  {
   "cell_type": "code",
   "execution_count": 50,
   "id": "18f70241",
   "metadata": {},
   "outputs": [
    {
     "data": {
      "text/markdown": [
       "This GitHub repository, “lostcoin-afk,” contains 12 public Jupyter Notebook repositories. The notebooks cover a variety of topics including:\n",
       "\n",
       "*   **llm\\_engineering:** A Jupyter Notebook.\n",
       "*   **Hydrogen-Compiler:** A C++ project.\n",
       "*   **Just-PYTHON:** A Python project.\n",
       "*   **NLP:** A Jupyter Notebook focused on Natural Language Processing.\n",
       "*   **FullStack--AI--Diagnosis-XAI:** A Python project for AI-powered diagnosis.\n",
       "*   **vid-mp3-converter-Microservice:** A Python microservice project.\n",
       "*   **LearningSpringBoot-JournalApp:** A Java project using Spring Boot.\n",
       "*   **BlogPost_Flask:** A Python project using Flask.\n",
       "*   **BasicCrudApp:** A Python project implementing basic CRUD operations.\n",
       "*   **movie-watchlist:** A Python project.\n",
       "*   **OCT_Disease_Classification_with_XAI-OCTDL-Dataset:** A Python project for disease classification using XAI.\n",
       "*   **Data\\_Analysis:** A Jupyter Notebook for data analysis using an advanced house prices dataset."
      ],
      "text/plain": [
       "<IPython.core.display.Markdown object>"
      ]
     },
     "metadata": {},
     "output_type": "display_data"
    }
   ],
   "source": [
    "display_summary(sec1)"
   ]
  },
  {
   "cell_type": "code",
   "execution_count": null,
   "id": "086047d2",
   "metadata": {},
   "outputs": [],
   "source": []
  }
 ],
 "metadata": {
  "kernelspec": {
   "display_name": "Python 3",
   "language": "python",
   "name": "python3"
  },
  "language_info": {
   "codemirror_mode": {
    "name": "ipython",
    "version": 3
   },
   "file_extension": ".py",
   "mimetype": "text/x-python",
   "name": "python",
   "nbconvert_exporter": "python",
   "pygments_lexer": "ipython3",
   "version": "3.13.2"
  }
 },
 "nbformat": 4,
 "nbformat_minor": 5
}
